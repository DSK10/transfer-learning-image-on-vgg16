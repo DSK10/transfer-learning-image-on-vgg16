{
  "nbformat": 4,
  "nbformat_minor": 0,
  "metadata": {
    "colab": {
      "name": "transfer-learning-dogs-vgg16",
      "provenance": [],
      "authorship_tag": "ABX9TyNSHEpNXejgxzjqEbasgISo"
    },
    "kernelspec": {
      "name": "python3",
      "display_name": "Python 3"
    },
    "language_info": {
      "name": "python"
    }
  },
  "cells": [
    {
      "cell_type": "code",
      "metadata": {
        "id": "glkj-BoVPFbD"
      },
      "source": [
        "from pathlib import Path\n",
        "import numpy as np\n",
        "import joblib\n",
        "from keras.preprocessing import image\n",
        "from keras.applications import vgg16, vgg19\n",
        "import glob\n",
        "import keras\n",
        "from keras.layers import Flatten, Dense, Dropout"
      ],
      "execution_count": null,
      "outputs": []
    },
    {
      "cell_type": "code",
      "metadata": {
        "id": "II19WdaYPngu"
      },
      "source": [
        "dog_path = Path(\"training_data\") / \"dogs\"\n",
        "not_dog_path = Path(\"training_data\") / \"not_dogs\""
      ],
      "execution_count": null,
      "outputs": []
    },
    {
      "cell_type": "code",
      "metadata": {
        "id": "IAa_-8IySDYA"
      },
      "source": [
        "images = []\n",
        "labels = []"
      ],
      "execution_count": null,
      "outputs": []
    },
    {
      "cell_type": "code",
      "metadata": {
        "id": "YGSJfYbsSN3s"
      },
      "source": [
        "for img in dog_path.glob(\"*.png\"):\n",
        "  img = image.load_img(img)\n",
        "  image_array = image.img_to_array(img)\n",
        "  images.append(image_array)\n",
        "  labels.append(1)"
      ],
      "execution_count": null,
      "outputs": []
    },
    {
      "cell_type": "code",
      "metadata": {
        "id": "M2jd3r8GSed-"
      },
      "source": [
        "for img in not_dog_path.glob(\"*.png\"):\n",
        "  img = image.load_img(img)\n",
        "  image_array = image.img_to_array(img)\n",
        "  images.append(image_array)\n",
        "  labels.append(0)"
      ],
      "execution_count": null,
      "outputs": []
    },
    {
      "cell_type": "code",
      "metadata": {
        "id": "_YsBMsbPTWP1"
      },
      "source": [
        "x_train = np.array(images)\n",
        "y_train = np.array(labels)"
      ],
      "execution_count": null,
      "outputs": []
    },
    {
      "cell_type": "code",
      "metadata": {
        "id": "_ZcgLSP9Uk23"
      },
      "source": [
        "#normalise data between 0-1\n",
        "x_train = vgg16.preprocess_input(x_train)"
      ],
      "execution_count": null,
      "outputs": []
    },
    {
      "cell_type": "code",
      "metadata": {
        "colab": {
          "base_uri": "https://localhost:8080/"
        },
        "id": "Wa_nnwyFTJpf",
        "outputId": "dc4ba202-d62f-4dbf-eb02-ca9f5801a362"
      },
      "source": [
        "pretrained_nn = vgg16.VGG16(weights='imagenet', include_top=False, input_shape=(64,64,3) )"
      ],
      "execution_count": null,
      "outputs": [
        {
          "output_type": "stream",
          "name": "stdout",
          "text": [
            "Downloading data from https://storage.googleapis.com/tensorflow/keras-applications/vgg16/vgg16_weights_tf_dim_ordering_tf_kernels_notop.h5\n",
            "58892288/58889256 [==============================] - 0s 0us/step\n",
            "58900480/58889256 [==============================] - 0s 0us/step\n"
          ]
        }
      ]
    },
    {
      "cell_type": "code",
      "metadata": {
        "id": "fPLbqY_PWdcT"
      },
      "source": [
        "features = pretrained_nn.predict(x_train)"
      ],
      "execution_count": null,
      "outputs": []
    },
    {
      "cell_type": "code",
      "metadata": {
        "colab": {
          "base_uri": "https://localhost:8080/"
        },
        "id": "lk941uDCWqpc",
        "outputId": "f81fe34f-d053-4129-c641-59da914051fd"
      },
      "source": [
        "# Save the array of extracted features to a file\n",
        "joblib.dump(features, \"x_train.dat\")\n",
        "\n",
        "# Save the matching array of expected values to a file\n",
        "joblib.dump(y_train, \"y_train.dat\")"
      ],
      "execution_count": null,
      "outputs": [
        {
          "output_type": "execute_result",
          "data": {
            "text/plain": [
              "['y_train.dat']"
            ]
          },
          "metadata": {},
          "execution_count": 13
        }
      ]
    },
    {
      "cell_type": "markdown",
      "metadata": {
        "id": "KxsLaLwVXWcM"
      },
      "source": [
        "# Training with extracted features\n"
      ]
    },
    {
      "cell_type": "code",
      "metadata": {
        "id": "GzImSkhwXZu1"
      },
      "source": [
        "# Load data set\n",
        "x_train_ex = joblib.load(\"x_train.dat\")\n",
        "y_train_ex = joblib.load(\"y_train.dat\")"
      ],
      "execution_count": null,
      "outputs": []
    },
    {
      "cell_type": "code",
      "metadata": {
        "id": "ACoqtcAjtnZc"
      },
      "source": [
        "x_train_ex.shape"
      ],
      "execution_count": null,
      "outputs": []
    },
    {
      "cell_type": "code",
      "metadata": {
        "id": "F-Bf63ZZYGhn"
      },
      "source": [
        "model=None\n",
        "# Create a model and add layers\n",
        "\n",
        "model = keras.models.Sequential()\n",
        "model.add(Flatten(input_shape=x_train_ex.shape[1:]))\n",
        "model.add(Dense(256, activation='relu'))\n",
        "model.add(Dropout(0.5))\n",
        "model.add(Dense(1, activation='sigmoid'))"
      ],
      "execution_count": null,
      "outputs": []
    },
    {
      "cell_type": "code",
      "metadata": {
        "colab": {
          "base_uri": "https://localhost:8080/"
        },
        "id": "_36qaBUjYIHS",
        "outputId": "3748a2b6-a1d3-43dc-a3d1-b6313955210d"
      },
      "source": [
        "# Compile the model\n",
        "model.compile(\n",
        "    loss=\"binary_crossentropy\",\n",
        "    optimizer=\"adam\",\n",
        "    metrics=['accuracy']\n",
        ")\n",
        "\n",
        "model.summary()"
      ],
      "execution_count": null,
      "outputs": [
        {
          "output_type": "stream",
          "name": "stdout",
          "text": [
            "Model: \"sequential_4\"\n",
            "_________________________________________________________________\n",
            "Layer (type)                 Output Shape              Param #   \n",
            "=================================================================\n",
            "flatten_3 (Flatten)          (None, 2048)              0         \n",
            "_________________________________________________________________\n",
            "dense_3 (Dense)              (None, 256)               524544    \n",
            "_________________________________________________________________\n",
            "dropout_1 (Dropout)          (None, 256)               0         \n",
            "_________________________________________________________________\n",
            "dense_4 (Dense)              (None, 1)                 257       \n",
            "=================================================================\n",
            "Total params: 524,801\n",
            "Trainable params: 524,801\n",
            "Non-trainable params: 0\n",
            "_________________________________________________________________\n"
          ]
        }
      ]
    },
    {
      "cell_type": "code",
      "metadata": {
        "colab": {
          "base_uri": "https://localhost:8080/"
        },
        "id": "W2Rw1WLcYKDz",
        "outputId": "351f52d6-e37d-4033-e643-f690175e5468"
      },
      "source": [
        "# Train the model\n",
        "model.fit(\n",
        "    x_train_ex,\n",
        "    y_train_ex,\n",
        "    epochs=10,\n",
        "    shuffle=True\n",
        ")\n"
      ],
      "execution_count": null,
      "outputs": [
        {
          "output_type": "stream",
          "name": "stdout",
          "text": [
            "Epoch 1/10\n",
            "2/2 [==============================] - 0s 9ms/step - loss: 11.1232 - accuracy: 0.5172\n",
            "Epoch 2/10\n",
            "2/2 [==============================] - 0s 13ms/step - loss: 2.4288 - accuracy: 0.8793\n",
            "Epoch 3/10\n",
            "2/2 [==============================] - 0s 11ms/step - loss: 1.3304 - accuracy: 0.9655\n",
            "Epoch 4/10\n",
            "2/2 [==============================] - 0s 8ms/step - loss: 2.2996 - accuracy: 0.9655\n",
            "Epoch 5/10\n",
            "2/2 [==============================] - 0s 8ms/step - loss: 0.1622 - accuracy: 0.9828\n",
            "Epoch 6/10\n",
            "2/2 [==============================] - 0s 15ms/step - loss: 0.2874 - accuracy: 0.9828\n",
            "Epoch 7/10\n",
            "2/2 [==============================] - 0s 9ms/step - loss: 2.3388e-13 - accuracy: 1.0000\n",
            "Epoch 8/10\n",
            "2/2 [==============================] - 0s 8ms/step - loss: 0.0012 - accuracy: 1.0000\n",
            "Epoch 9/10\n",
            "2/2 [==============================] - 0s 8ms/step - loss: 9.1097e-07 - accuracy: 1.0000\n",
            "Epoch 10/10\n",
            "2/2 [==============================] - 0s 8ms/step - loss: 1.6470e-14 - accuracy: 1.0000\n"
          ]
        },
        {
          "output_type": "execute_result",
          "data": {
            "text/plain": [
              "<keras.callbacks.History at 0x7fcb0e99ff50>"
            ]
          },
          "metadata": {},
          "execution_count": 97
        }
      ]
    },
    {
      "cell_type": "code",
      "metadata": {
        "id": "mPRjMRObYLS0"
      },
      "source": [
        "# Save neural network structure\n",
        "model_structure = model.to_json()\n",
        "f = Path(\"model_structure.json\")\n",
        "f.write_text(model_structure)\n",
        "\n",
        "# Save neural network's trained weights\n",
        "model.save_weights(\"model_weights.h5\")"
      ],
      "execution_count": null,
      "outputs": []
    },
    {
      "cell_type": "markdown",
      "metadata": {
        "id": "yf1ehfhXcPBi"
      },
      "source": [
        "# Making Prediction"
      ]
    },
    {
      "cell_type": "code",
      "metadata": {
        "id": "q0KJMdaBcRd2"
      },
      "source": [
        "from keras.models import model_from_json\n",
        "from pathlib import Path\n",
        "from keras.preprocessing import image\n",
        "import numpy as np\n",
        "from keras.applications import vgg16"
      ],
      "execution_count": null,
      "outputs": []
    },
    {
      "cell_type": "code",
      "metadata": {
        "id": "ZyEkHI-hqGfh"
      },
      "source": [
        "z = Path(\"model_structure.json\")"
      ],
      "execution_count": null,
      "outputs": []
    },
    {
      "cell_type": "code",
      "metadata": {
        "id": "6FLkXtB-qgjm"
      },
      "source": [
        "model_structure_custom = z.read_text()\n",
        "model_structure_custom"
      ],
      "execution_count": null,
      "outputs": []
    },
    {
      "cell_type": "code",
      "metadata": {
        "colab": {
          "base_uri": "https://localhost:8080/"
        },
        "id": "9KasUm9oqry-",
        "outputId": "de67d7fe-ea7b-4d82-e048-c2d081fbb83c"
      },
      "source": [
        "custom_model = model_from_json(model_structure_custom)\n",
        "custom_model"
      ],
      "execution_count": null,
      "outputs": [
        {
          "output_type": "execute_result",
          "data": {
            "text/plain": [
              "<keras.engine.sequential.Sequential at 0x7fcb0a62db90>"
            ]
          },
          "metadata": {},
          "execution_count": 101
        }
      ]
    },
    {
      "cell_type": "code",
      "metadata": {
        "id": "UVQD07o2qzbn"
      },
      "source": [
        "custom_model.load_weights(\"model_weights.h5\")"
      ],
      "execution_count": null,
      "outputs": []
    },
    {
      "cell_type": "code",
      "metadata": {
        "id": "Zlm6x9guq6d6"
      },
      "source": [
        "img = image.load_img(\"dog.png\", target_size=(64, 64))\n",
        "image_array = image.img_to_array(img)\n",
        "images = np.expand_dims(image_array, axis=0)\n",
        "images = vgg16.preprocess_input(images)"
      ],
      "execution_count": 125,
      "outputs": []
    },
    {
      "cell_type": "code",
      "metadata": {
        "colab": {
          "base_uri": "https://localhost:8080/"
        },
        "id": "UNLTe4VXrTvB",
        "outputId": "7760f439-3833-4197-c443-da2ec42c5da0"
      },
      "source": [
        "images.shape"
      ],
      "execution_count": 126,
      "outputs": [
        {
          "output_type": "execute_result",
          "data": {
            "text/plain": [
              "(1, 64, 64, 3)"
            ]
          },
          "metadata": {},
          "execution_count": 126
        }
      ]
    },
    {
      "cell_type": "code",
      "metadata": {
        "id": "t8lc1_hlrUuz"
      },
      "source": [
        "feature_extraction_model = vgg16.VGG16(weights='imagenet', include_top=False, input_shape=(64,64,3))\n",
        "features = feature_extraction_model.predict(images)"
      ],
      "execution_count": 127,
      "outputs": []
    },
    {
      "cell_type": "code",
      "metadata": {
        "colab": {
          "base_uri": "https://localhost:8080/"
        },
        "id": "4VlZIT_ttZBJ",
        "outputId": "eacc0e0c-d6b4-4462-ae4c-3e9fce78abbd"
      },
      "source": [
        "features.shape"
      ],
      "execution_count": 131,
      "outputs": [
        {
          "output_type": "execute_result",
          "data": {
            "text/plain": [
              "(1, 2, 2, 512)"
            ]
          },
          "metadata": {},
          "execution_count": 131
        }
      ]
    },
    {
      "cell_type": "code",
      "metadata": {
        "id": "1j0FK-LRrpBh"
      },
      "source": [
        "results = custom_model.predict(features)"
      ],
      "execution_count": 129,
      "outputs": []
    },
    {
      "cell_type": "code",
      "metadata": {
        "colab": {
          "base_uri": "https://localhost:8080/"
        },
        "id": "pDUrC2y-tRRl",
        "outputId": "e19d172a-5b16-476d-a1db-ef32cee812b2"
      },
      "source": [
        "single_result = results[0][0]\n",
        "single_result"
      ],
      "execution_count": 130,
      "outputs": [
        {
          "output_type": "execute_result",
          "data": {
            "text/plain": [
              "1.0"
            ]
          },
          "metadata": {},
          "execution_count": 130
        }
      ]
    },
    {
      "cell_type": "code",
      "metadata": {
        "id": "PSB_qFmuuMW8"
      },
      "source": [
        ""
      ],
      "execution_count": null,
      "outputs": []
    }
  ]
}